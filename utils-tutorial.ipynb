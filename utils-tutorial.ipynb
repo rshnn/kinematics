{
 "cells": [
  {
   "cell_type": "code",
   "execution_count": 1,
   "metadata": {},
   "outputs": [],
   "source": [
    "# Add parent directory to working directory. \n",
    "import sys \n",
    "sys.path.append('..')"
   ]
  },
  {
   "cell_type": "code",
   "execution_count": 2,
   "metadata": {},
   "outputs": [],
   "source": [
    "import math\n",
    "import quaternion\n",
    "import numpy as np \n",
    "from astropy import units "
   ]
  },
  {
   "cell_type": "code",
   "execution_count": 3,
   "metadata": {},
   "outputs": [],
   "source": [
    "from measures.api import Length, Angle, Speed"
   ]
  },
  {
   "cell_type": "markdown",
   "metadata": {},
   "source": [
    "# Vector3 \n",
    "Basically a numpy array.  It is restricted to only being 3 elements long and must be of numeric type (float precision is stored)."
   ]
  },
  {
   "cell_type": "code",
   "execution_count": 4,
   "metadata": {},
   "outputs": [],
   "source": [
    "from kinematics.utils import Vector3, UnitVector3"
   ]
  },
  {
   "cell_type": "code",
   "execution_count": 5,
   "metadata": {},
   "outputs": [
    {
     "data": {
      "text/plain": [
       "Vector3(10.0, 10.0, 10.0)"
      ]
     },
     "execution_count": 5,
     "metadata": {},
     "output_type": "execute_result"
    }
   ],
   "source": [
    "Vector3(10, 10, '10')"
   ]
  },
  {
   "cell_type": "code",
   "execution_count": 6,
   "metadata": {},
   "outputs": [
    {
     "data": {
      "text/plain": [
       "Vector3(10.0, 2.0, 3.0)"
      ]
     },
     "execution_count": 6,
     "metadata": {},
     "output_type": "execute_result"
    }
   ],
   "source": [
    "Vector3([10, 2, 3])"
   ]
  },
  {
   "cell_type": "code",
   "execution_count": 7,
   "metadata": {},
   "outputs": [
    {
     "data": {
      "text/plain": [
       "UnitVector3(0.28116077855776667, 0.9559466470964066, 0.08434823356733)"
      ]
     },
     "execution_count": 7,
     "metadata": {},
     "output_type": "execute_result"
    }
   ],
   "source": [
    "# Can also get unit vectors (magnitude = 1)\n",
    "UnitVector3(10, 34, 3)"
   ]
  },
  {
   "cell_type": "code",
   "execution_count": null,
   "metadata": {},
   "outputs": [],
   "source": []
  },
  {
   "cell_type": "markdown",
   "metadata": {},
   "source": [
    "# Coordinate Frames and Points"
   ]
  },
  {
   "cell_type": "markdown",
   "metadata": {},
   "source": [
    "## Base frame and cartesian frames \n",
    "\n",
    "To start, you must initialize a base frame.  This is a frame that represents where (0,0,0) is and what the global x,y,z axes are.  \n",
    "\n",
    "Then, instance CartesianFrames in refrence to the base frame.  These will be the workable coordinate frames--the ones you describe points with.   \n",
    "\n",
    "Points are described in reference to a CartesianFrame "
   ]
  },
  {
   "cell_type": "code",
   "execution_count": 8,
   "metadata": {},
   "outputs": [],
   "source": [
    "from kinematics.utils import BaseFrame, CartesianFrame, Point "
   ]
  },
  {
   "cell_type": "code",
   "execution_count": 9,
   "metadata": {},
   "outputs": [],
   "source": [
    "world = BaseFrame()"
   ]
  },
  {
   "cell_type": "code",
   "execution_count": 10,
   "metadata": {},
   "outputs": [
    {
     "data": {
      "text/plain": [
       "Vector3(0.0, 0.0, 0.0)"
      ]
     },
     "execution_count": 10,
     "metadata": {},
     "output_type": "execute_result"
    }
   ],
   "source": [
    "my_frame = CartesianFrame(base_frame=world)\n",
    "my_frame.origin.coords"
   ]
  },
  {
   "cell_type": "code",
   "execution_count": 11,
   "metadata": {},
   "outputs": [
    {
     "data": {
      "text/plain": [
       "Point[my_frame(Cartesian)](1.000000000 ft, 2.000000000 ft, 3.000000000 ft)"
      ]
     },
     "execution_count": 11,
     "metadata": {},
     "output_type": "execute_result"
    }
   ],
   "source": [
    "p1 = Point([1, 2, 3], frame=my_frame, dimension_unit=units.imperial.ft)\n",
    "p1\n"
   ]
  },
  {
   "cell_type": "code",
   "execution_count": 12,
   "metadata": {},
   "outputs": [
    {
     "data": {
      "text/plain": [
       "Point[my_frame(Cartesian)](2.000000000 ft, 3.000000000 ft, 4.000000000 ft)"
      ]
     },
     "execution_count": 12,
     "metadata": {},
     "output_type": "execute_result"
    }
   ],
   "source": [
    "# Can translate a point by calling .translate().  Returns a new point object.\n",
    "p1.translate([1,1,1])"
   ]
  },
  {
   "cell_type": "code",
   "execution_count": 13,
   "metadata": {},
   "outputs": [
    {
     "name": "stdout",
     "output_type": "stream",
     "text": [
      "Point[my_frame(Cartesian)](1.000 ft, 2.000 ft, 3.000 ft)\n",
      "Point[my_frame(Cartesian)](4.000 ft, 102.000 ft, 30.000 ft)\n"
     ]
    }
   ],
   "source": [
    "# Mutate a point inplace by calling x, y, z attrs (does NOT return new point)\n",
    "print(p1)\n",
    "p1.x = 4\n",
    "p1.y += 100\n",
    "p1.z *= 10\n",
    "print(p1)"
   ]
  },
  {
   "cell_type": "code",
   "execution_count": null,
   "metadata": {},
   "outputs": [],
   "source": []
  },
  {
   "cell_type": "markdown",
   "metadata": {},
   "source": [
    "## Fancy coord frames\n",
    "\n",
    "You can translate and rotate cartesian frames with respect to their base frame.  Points that are defined with respect to one frame can be represented with respect to other frames.  \n",
    "\n",
    "There are a few presets available with the `axes_convention` input arg.  "
   ]
  },
  {
   "cell_type": "code",
   "execution_count": 14,
   "metadata": {},
   "outputs": [
    {
     "data": {
      "text/plain": [
       "CartesianFrame(best, origin: Point[world(Base)](10.000 m, 10.000 m, 10.000 m), orientation: [0.78539816 3.14159265 1.57079633])"
      ]
     },
     "execution_count": 14,
     "metadata": {},
     "output_type": "execute_result"
    }
   ],
   "source": [
    "rotation = [Angle(i*units.deg) for i in [45, 180, 90]]\n",
    "\n",
    "best_frame_ever = CartesianFrame(base_frame=world, \n",
    "                              translation=(10, 10, 10), \n",
    "                              orientation=rotation,\n",
    "                              dimension_unit=units.m,\n",
    "                              name='best')\n",
    "best_frame_ever"
   ]
  },
  {
   "cell_type": "code",
   "execution_count": 15,
   "metadata": {},
   "outputs": [],
   "source": [
    "ned = CartesianFrame(axes_convention='ned')\n",
    "enu = CartesianFrame(axes_convention='enu')\n",
    "# ENU is considered equivalent to the base_frame."
   ]
  },
  {
   "cell_type": "code",
   "execution_count": 16,
   "metadata": {},
   "outputs": [
    {
     "data": {
      "text/plain": [
       "Point[best(Cartesian)](79.296464556 ft, 84.953318806 ft, -20.000000000 ft)"
      ]
     },
     "execution_count": 16,
     "metadata": {},
     "output_type": "execute_result"
    }
   ],
   "source": [
    "# Note.  this operation returns a new point.  p1 is not mutated\n",
    "best_point_ever = p1.to_frame(best_frame_ever)\n",
    "best_point_ever"
   ]
  },
  {
   "cell_type": "code",
   "execution_count": 17,
   "metadata": {},
   "outputs": [
    {
     "data": {
      "text/plain": [
       "Point[ned(Cartesian)](102.000000000 ft, 4.000000000 ft, -30.000000000 ft)"
      ]
     },
     "execution_count": 17,
     "metadata": {},
     "output_type": "execute_result"
    }
   ],
   "source": [
    "p1.to_frame(ned)"
   ]
  },
  {
   "cell_type": "code",
   "execution_count": null,
   "metadata": {},
   "outputs": [],
   "source": []
  },
  {
   "cell_type": "markdown",
   "metadata": {},
   "source": [
    "# Velocity vector \n",
    "\n",
    "The Velocity object represents a velocity vector.  It has no position in 3D space, only a magnitude and direction.  \n",
    "\n",
    "You can obtain the azimuth and elevation angles from a Velocity object with `.get_azimuth_elevation()`.  "
   ]
  },
  {
   "cell_type": "code",
   "execution_count": 18,
   "metadata": {},
   "outputs": [],
   "source": [
    "from kinematics.utils import Velocity "
   ]
  },
  {
   "cell_type": "code",
   "execution_count": 19,
   "metadata": {},
   "outputs": [
    {
     "name": "stdout",
     "output_type": "stream",
     "text": [
      "Velocity[best(Cartesian)](10.000 km / s, 1.000 km / s, 3.000 km / s)\n"
     ]
    },
    {
     "data": {
      "text/plain": [
       "Velocity[best(Cartesian)](10.000000000 km / s, 1.000000000 km / s, 3.000000000 km / s)"
      ]
     },
     "execution_count": 19,
     "metadata": {},
     "output_type": "execute_result"
    }
   ],
   "source": [
    "v = Velocity(vel=[10, 1, 3], \n",
    "         frame=best_frame_ever, \n",
    "         dimension_unit=units.km/units.s)\n",
    "\n",
    "print(v)  # Shorter.  Rounds to .3f \n",
    "v"
   ]
  },
  {
   "cell_type": "code",
   "execution_count": 20,
   "metadata": {},
   "outputs": [
    {
     "name": "stdout",
     "output_type": "stream",
     "text": [
      "Velocity[ned(Cartesian)](7.778 km / s, -6.364 km / s, 3.000 km / s)\n"
     ]
    }
   ],
   "source": [
    "print(v.to_frame(ned))"
   ]
  },
  {
   "cell_type": "code",
   "execution_count": 21,
   "metadata": {},
   "outputs": [
    {
     "data": {
      "text/plain": [
       "Vector3(10.0, 1.0, 3.0)"
      ]
     },
     "execution_count": 21,
     "metadata": {},
     "output_type": "execute_result"
    }
   ],
   "source": [
    "v.vector\n",
    "# p1.coords"
   ]
  },
  {
   "cell_type": "code",
   "execution_count": 22,
   "metadata": {
    "scrolled": true
   },
   "outputs": [
    {
     "data": {
      "text/plain": [
       "(<Angle 5.71059314 deg>, <Angle 16.62095127 deg>)"
      ]
     },
     "execution_count": 22,
     "metadata": {},
     "output_type": "execute_result"
    }
   ],
   "source": [
    "v.get_azimuth_elevation()"
   ]
  },
  {
   "cell_type": "code",
   "execution_count": null,
   "metadata": {},
   "outputs": [],
   "source": []
  },
  {
   "cell_type": "markdown",
   "metadata": {},
   "source": [
    "# State \n",
    "\n",
    "State packages a position and velocity vector together.  As of now, the position and velocity must be described by the same frame to make a state of out them.  This could change to be more dynamic if there is a need for it.  \n",
    "  \n",
    "\n",
    "TODO:  add orientation to the state object. "
   ]
  },
  {
   "cell_type": "code",
   "execution_count": 23,
   "metadata": {},
   "outputs": [],
   "source": [
    "from kinematics.utils import State"
   ]
  },
  {
   "cell_type": "code",
   "execution_count": 24,
   "metadata": {},
   "outputs": [
    {
     "data": {
      "text/plain": [
       "State(Point[best(Cartesian)](79.296 ft, 84.953 ft, -20.000 ft), Velocity[best(Cartesian)](10.000 km / s, 1.000 km / s, 3.000 km / s))"
      ]
     },
     "execution_count": 24,
     "metadata": {},
     "output_type": "execute_result"
    }
   ],
   "source": [
    "State(best_point_ever, v)"
   ]
  },
  {
   "cell_type": "code",
   "execution_count": null,
   "metadata": {},
   "outputs": [],
   "source": []
  },
  {
   "cell_type": "code",
   "execution_count": null,
   "metadata": {},
   "outputs": [],
   "source": []
  },
  {
   "cell_type": "code",
   "execution_count": null,
   "metadata": {},
   "outputs": [],
   "source": []
  },
  {
   "cell_type": "code",
   "execution_count": null,
   "metadata": {},
   "outputs": [],
   "source": []
  },
  {
   "cell_type": "code",
   "execution_count": null,
   "metadata": {},
   "outputs": [],
   "source": []
  },
  {
   "cell_type": "code",
   "execution_count": null,
   "metadata": {},
   "outputs": [],
   "source": []
  },
  {
   "cell_type": "code",
   "execution_count": null,
   "metadata": {},
   "outputs": [],
   "source": []
  },
  {
   "cell_type": "code",
   "execution_count": null,
   "metadata": {},
   "outputs": [],
   "source": []
  },
  {
   "cell_type": "code",
   "execution_count": null,
   "metadata": {},
   "outputs": [],
   "source": []
  },
  {
   "cell_type": "code",
   "execution_count": null,
   "metadata": {},
   "outputs": [],
   "source": []
  },
  {
   "cell_type": "code",
   "execution_count": null,
   "metadata": {},
   "outputs": [],
   "source": []
  },
  {
   "cell_type": "code",
   "execution_count": null,
   "metadata": {},
   "outputs": [],
   "source": []
  }
 ],
 "metadata": {
  "kernelspec": {
   "display_name": "Python 3",
   "language": "python",
   "name": "python3"
  },
  "language_info": {
   "codemirror_mode": {
    "name": "ipython",
    "version": 3
   },
   "file_extension": ".py",
   "mimetype": "text/x-python",
   "name": "python",
   "nbconvert_exporter": "python",
   "pygments_lexer": "ipython3",
   "version": "3.6.4"
  }
 },
 "nbformat": 4,
 "nbformat_minor": 2
}
